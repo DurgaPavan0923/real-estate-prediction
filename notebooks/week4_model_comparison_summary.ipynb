{
 "cells": [
  {
   "cell_type": "code",
   "execution_count": 15,
   "id": "3cb875a8",
   "metadata": {},
   "outputs": [
    {
     "name": "stdout",
     "output_type": "stream",
     "text": [
      "               Model      RMSE        R²\n",
      "3           Tuned RF  5.580687  0.807173\n",
      "2      Random Forest  5.687591  0.807173\n",
      "4            XGBoost  6.228269  0.768768\n",
      "0  Linear Regression  7.352521  0.677756\n",
      "1      Decision Tree  7.732345  0.643602\n"
     ]
    }
   ],
   "source": [
    "# Summary table (replace values with actual RMSE/R² results)\n",
    "import pandas as pd\n",
    "\n",
    "results = pd.DataFrame({\n",
    "    'Model': ['Linear Regression', 'Decision Tree', 'Random Forest', 'Tuned RF', 'XGBoost'],\n",
    "    'RMSE': [7.352520931912913, 7.732344833652081, 5.687590539891411,5.580686772721471 ,6.228269299199973],\n",
    "    'R²': [0.6777560420778288, 0.6436024816472637, 0.8071725356880382, 0.8071725356880382, 0.7687684934530014]\n",
    "})\n",
    "\n",
    "results = results.sort_values(by=\"RMSE\")\n",
    "print(results)\n"
   ]
  }
 ],
 "metadata": {
  "kernelspec": {
   "display_name": "Python 3",
   "language": "python",
   "name": "python3"
  },
  "language_info": {
   "codemirror_mode": {
    "name": "ipython",
    "version": 3
   },
   "file_extension": ".py",
   "mimetype": "text/x-python",
   "name": "python",
   "nbconvert_exporter": "python",
   "pygments_lexer": "ipython3",
   "version": "3.11.9"
  }
 },
 "nbformat": 4,
 "nbformat_minor": 5
}
