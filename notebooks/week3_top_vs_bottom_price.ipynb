{
 "cells": [
  {
   "cell_type": "code",
   "execution_count": 3,
   "id": "d21119f7",
   "metadata": {},
   "outputs": [
    {
     "name": "stdout",
     "output_type": "stream",
     "text": [
      "Top 5 Most Expensive Properties:\n",
      "     transaction_date  house_age  distance_to_mrt  num_convenience_stores  \\\n",
      "270          2013.333   0.246575         0.035454                     0.1   \n",
      "220          2013.333   0.849315         0.025234                     0.9   \n",
      "312          2013.583   0.808219         0.045656                     0.9   \n",
      "166          2013.417   0.000000         0.041706                     0.6   \n",
      "105          2012.833   0.000000         0.041706                     0.6   \n",
      "\n",
      "     latitude  longitude  price  \n",
      "270  0.515390   0.613867  117.5  \n",
      "220  0.544838   0.745309   78.3  \n",
      "312  0.468250   0.724175   78.0  \n",
      "166  0.549806   0.766120   73.6  \n",
      "105  0.549806   0.766120   71.0  \n",
      "\n",
      "Bottom 5 Cheapest Properties:\n",
      "     transaction_date  house_age  distance_to_mrt  num_convenience_stores  \\\n",
      "113          2013.333   0.337900         0.057216                     0.6   \n",
      "347          2013.583   0.397260         1.000000                     0.1   \n",
      "162          2012.750   0.365297         0.625434                     0.0   \n",
      "116          2013.000   0.705479         0.985809                     0.1   \n",
      "226          2013.000   0.376712         0.627820                     0.0   \n",
      "\n",
      "     latitude  longitude  price  \n",
      "113  0.359307   0.696463    7.6  \n",
      "347  0.304411   0.000000   11.2  \n",
      "162  0.132089   0.322299   11.6  \n",
      "116  0.141541   0.057149   12.2  \n",
      "226  0.114881   0.326504   12.8  \n"
     ]
    }
   ],
   "source": [
    "# week3_top_vs_bottom_price.ipynb\n",
    "\n",
    "import pandas as pd\n",
    "\n",
    "# Load data\n",
    "df = pd.read_csv(\"../data/cleaned_data.csv\")\n",
    "\n",
    "# Rename columns for clarity and consistency\n",
    "df.columns = ['transaction_date', 'house_age', 'distance_to_mrt', 'num_convenience_stores', 'latitude', 'longitude', 'price']\n",
    "\n",
    "# Top 5 expensive properties\n",
    "top5 = df.sort_values(\"price\", ascending=False).head(5)\n",
    "print(\"Top 5 Most Expensive Properties:\")\n",
    "print(top5)\n",
    "\n",
    "# Bottom 5 cheapest properties\n",
    "bottom5 = df.sort_values(\"price\", ascending=True).head(5)\n",
    "print(\"\\nBottom 5 Cheapest Properties:\")\n",
    "print(bottom5)\n"
   ]
  }
 ],
 "metadata": {
  "kernelspec": {
   "display_name": "Python 3",
   "language": "python",
   "name": "python3"
  },
  "language_info": {
   "codemirror_mode": {
    "name": "ipython",
    "version": 3
   },
   "file_extension": ".py",
   "mimetype": "text/x-python",
   "name": "python",
   "nbconvert_exporter": "python",
   "pygments_lexer": "ipython3",
   "version": "3.11.9"
  }
 },
 "nbformat": 4,
 "nbformat_minor": 5
}
