{
 "cells": [
  {
   "cell_type": "markdown",
   "id": "89d3653e",
   "metadata": {},
   "source": [
    "# MRT Distance vs Price Analysis\n",
    "This notebook explores the relationship between distance to the nearest MRT station and price per unit area."
   ]
  },
  {
   "cell_type": "code",
   "execution_count": null,
   "id": "50f257be",
   "metadata": {},
   "outputs": [],
   "source": [
    "# Step 1: Import Libraries\n",
    "import pandas as pd\n",
    "import seaborn as sns\n",
    "import matplotlib.pyplot as plt"
   ]
  },
  {
   "cell_type": "code",
   "execution_count": null,
   "id": "f44a7294",
   "metadata": {},
   "outputs": [],
   "source": [
    "# Step 2: Load Dataset\n",
    "df = pd.read_csv(\"data/cleaned_data_with_transaction_year.csv\")"
   ]
  },
  {
   "cell_type": "code",
   "execution_count": null,
   "id": "4b26e88d",
   "metadata": {},
   "outputs": [],
   "source": [
    "# Step 3: Plot Distance to MRT vs Price\n",
    "plt.figure(figsize=(10, 6))\n",
    "sns.scatterplot(x='distance_to_mrt', y='price_per_unit_area', data=df)\n",
    "plt.title(\"MRT Distance vs Price\")\n",
    "plt.xlabel(\"Distance to MRT Station (meters)\")\n",
    "plt.ylabel(\"Price per Unit Area\")\n",
    "plt.grid(True)\n",
    "plt.show()"
   ]
  },
  {
   "cell_type": "markdown",
   "id": "1abada6a",
   "metadata": {},
   "source": [
    "### Observations\n",
    "- Properties located closer to MRT stations generally have higher prices per unit area.\n",
    "- A few outliers exist where properties farther from MRTs also show high prices, likely due to other influencing factors such as amenities, age, or transaction year."
   ]
  }
 ],
 "metadata": {},
 "nbformat": 4,
 "nbformat_minor": 5
}
