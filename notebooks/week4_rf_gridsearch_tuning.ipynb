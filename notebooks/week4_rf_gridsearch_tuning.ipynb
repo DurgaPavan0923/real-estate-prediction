{
 "cells": [
  {
   "cell_type": "code",
   "execution_count": 5,
   "id": "6b2f6cfa",
   "metadata": {},
   "outputs": [
    {
     "name": "stdout",
     "output_type": "stream",
     "text": [
      "Random Forest RMSE: 5.687590539891411\n",
      "Random Forest R² Score: 0.8071725356880382\n",
      "Best parameters: {'max_depth': 10, 'min_samples_split': 5, 'n_estimators': 200}\n",
      "Tuned Random Forest RMSE: 5.580686772721471\n",
      "Tuned Random Forest R² Score: 0.8071725356880382\n",
      "Best parameters: {'max_depth': 10, 'min_samples_split': 5, 'n_estimators': 200}\n",
      "Tuned Random Forest RMSE: 5.580686772721471\n",
      "Tuned Random Forest R² Score: 0.8071725356880382\n"
     ]
    }
   ],
   "source": [
    "import pandas as pd\n",
    "import numpy as np\n",
    "from sklearn.model_selection import train_test_split, GridSearchCV\n",
    "from sklearn.ensemble import RandomForestRegressor\n",
    "from sklearn.metrics import mean_squared_error, r2_score\n",
    "\n",
    "\n",
    "# Load data\n",
    "df = pd.read_csv(\"../data/cleaned_data_with_transaction_year.csv\")\n",
    "\n",
    "\n",
    "X = df.drop(\"price_per_unit_area\", axis=1)\n",
    "y = df[\"price_per_unit_area\"]\n",
    "\n",
    "# Split\n",
    "X_train, X_test, y_train, y_test = train_test_split(X, y, test_size=0.2, random_state=42)\n",
    "\n",
    "# Model\n",
    "rf_model = RandomForestRegressor(random_state=42)\n",
    "rf_model.fit(X_train, y_train)\n",
    "\n",
    "# Predict\n",
    "y_pred = rf_model.predict(X_test)\n",
    "\n",
    "# Evaluate\n",
    "rmse = np.sqrt(mean_squared_error(y_test, y_pred))\n",
    "r2 = r2_score(y_test, y_pred)\n",
    "\n",
    "print(\"Random Forest RMSE:\", rmse)\n",
    "print(\"Random Forest R² Score:\", r2)\n",
    "\n",
    "# Define hyperparameter grid\n",
    "param_grid = {\n",
    "    'n_estimators': [100, 200],\n",
    "    'max_depth': [None, 10, 20],\n",
    "    'min_samples_split': [2, 5]\n",
    "}\n",
    "\n",
    "grid_search = GridSearchCV(\n",
    "    estimator=RandomForestRegressor(random_state=42),\n",
    "    param_grid=param_grid,\n",
    "    cv=5,\n",
    "    scoring='neg_mean_squared_error',\n",
    "    n_jobs=-1\n",
    ")\n",
    "\n",
    "grid_search.fit(X_train, y_train)\n",
    "\n",
    "# Best estimator and score\n",
    "print(\"Best parameters:\", grid_search.best_params_)\n",
    "best_model = grid_search.best_estimator_\n",
    "\n",
    "# Evaluate best model\n",
    "y_pred = best_model.predict(X_test)\n",
    "rmse = np.sqrt(mean_squared_error(y_test, y_pred))\n",
    "print(\"Tuned Random Forest RMSE:\", rmse)\n",
    "print(\"Tuned Random Forest R² Score:\", r2)\n",
    "\n"
   ]
  }
 ],
 "metadata": {
  "kernelspec": {
   "display_name": "Python 3",
   "language": "python",
   "name": "python3"
  },
  "language_info": {
   "codemirror_mode": {
    "name": "ipython",
    "version": 3
   },
   "file_extension": ".py",
   "mimetype": "text/x-python",
   "name": "python",
   "nbconvert_exporter": "python",
   "pygments_lexer": "ipython3",
   "version": "3.11.9"
  }
 },
 "nbformat": 4,
 "nbformat_minor": 5
}
